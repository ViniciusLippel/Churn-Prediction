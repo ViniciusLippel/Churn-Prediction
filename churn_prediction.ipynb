{
 "cells": [
  {
   "cell_type": "markdown",
   "id": "9be8e5ce",
   "metadata": {},
   "source": [
    "# Desafio Cientista de Dados - Análise e Predição de Churn Rate\n",
    "### Candidato: Vinícius Marzall Lippel"
   ]
  },
  {
   "cell_type": "markdown",
   "id": "d3ae8931",
   "metadata": {},
   "source": [
    "Primeiramente importamos as bibliotecas que serão necessárias"
   ]
  },
  {
   "cell_type": "code",
   "execution_count": 300,
   "id": "4481abb1",
   "metadata": {},
   "outputs": [],
   "source": [
    "import pandas as pd\n",
    "import numpy as np\n",
    "import matplotlib.pyplot as plt\n",
    "import seaborn as sns\n",
    "import csv\n",
    "\n",
    "from sklearn.preprocessing import MinMaxScaler\n",
    "from sklearn.model_selection import train_test_split\n",
    "from sklearn.metrics import classification_report, confusion_matrix\n",
    "from sklearn.ensemble import RandomForestClassifier\n",
    "\n",
    "import tensorflow as tf\n",
    "from tensorflow import keras\n",
    "\n",
    "from imblearn.over_sampling import SMOTE"
   ]
  },
  {
   "cell_type": "markdown",
   "id": "3291153a",
   "metadata": {},
   "source": [
    "# Análise dos dados"
   ]
  },
  {
   "cell_type": "markdown",
   "id": "753165a7",
   "metadata": {},
   "source": [
    "Criamos um DataFrame a partir do arquivo Abandono_clientes.csv"
   ]
  },
  {
   "cell_type": "code",
   "execution_count": 307,
   "id": "522191b8",
   "metadata": {},
   "outputs": [],
   "source": [
    "df = pd.read_csv('Abandono_clientes.csv')"
   ]
  },
  {
   "cell_type": "markdown",
   "id": "0bf35c41",
   "metadata": {},
   "source": [
    "Verificamos seu formato e os tipos de dados armazenados para cada cliente"
   ]
  },
  {
   "cell_type": "code",
   "execution_count": 2,
   "id": "9a3b00d2",
   "metadata": {
    "scrolled": true
   },
   "outputs": [
    {
     "name": "stdout",
     "output_type": "stream",
     "text": [
      "(10000, 14)\n"
     ]
    },
    {
     "data": {
      "text/html": [
       "<div>\n",
       "<style scoped>\n",
       "    .dataframe tbody tr th:only-of-type {\n",
       "        vertical-align: middle;\n",
       "    }\n",
       "\n",
       "    .dataframe tbody tr th {\n",
       "        vertical-align: top;\n",
       "    }\n",
       "\n",
       "    .dataframe thead th {\n",
       "        text-align: right;\n",
       "    }\n",
       "</style>\n",
       "<table border=\"1\" class=\"dataframe\">\n",
       "  <thead>\n",
       "    <tr style=\"text-align: right;\">\n",
       "      <th></th>\n",
       "      <th>RowNumber</th>\n",
       "      <th>CustomerId</th>\n",
       "      <th>Surname</th>\n",
       "      <th>CreditScore</th>\n",
       "      <th>Geography</th>\n",
       "      <th>Gender</th>\n",
       "      <th>Age</th>\n",
       "      <th>Tenure</th>\n",
       "      <th>Balance</th>\n",
       "      <th>NumOfProducts</th>\n",
       "      <th>HasCrCard</th>\n",
       "      <th>IsActiveMember</th>\n",
       "      <th>EstimatedSalary</th>\n",
       "      <th>Exited</th>\n",
       "    </tr>\n",
       "  </thead>\n",
       "  <tbody>\n",
       "    <tr>\n",
       "      <th>0</th>\n",
       "      <td>1</td>\n",
       "      <td>15634602</td>\n",
       "      <td>Hargrave</td>\n",
       "      <td>619</td>\n",
       "      <td>France</td>\n",
       "      <td>Female</td>\n",
       "      <td>42</td>\n",
       "      <td>2</td>\n",
       "      <td>0.00</td>\n",
       "      <td>1</td>\n",
       "      <td>1</td>\n",
       "      <td>1</td>\n",
       "      <td>101348.88</td>\n",
       "      <td>1</td>\n",
       "    </tr>\n",
       "    <tr>\n",
       "      <th>1</th>\n",
       "      <td>2</td>\n",
       "      <td>15647311</td>\n",
       "      <td>Hill</td>\n",
       "      <td>608</td>\n",
       "      <td>Spain</td>\n",
       "      <td>Female</td>\n",
       "      <td>41</td>\n",
       "      <td>1</td>\n",
       "      <td>83807.86</td>\n",
       "      <td>1</td>\n",
       "      <td>0</td>\n",
       "      <td>1</td>\n",
       "      <td>112542.58</td>\n",
       "      <td>0</td>\n",
       "    </tr>\n",
       "    <tr>\n",
       "      <th>2</th>\n",
       "      <td>3</td>\n",
       "      <td>15619304</td>\n",
       "      <td>Onio</td>\n",
       "      <td>502</td>\n",
       "      <td>France</td>\n",
       "      <td>Female</td>\n",
       "      <td>42</td>\n",
       "      <td>8</td>\n",
       "      <td>159660.80</td>\n",
       "      <td>3</td>\n",
       "      <td>1</td>\n",
       "      <td>0</td>\n",
       "      <td>113931.57</td>\n",
       "      <td>1</td>\n",
       "    </tr>\n",
       "    <tr>\n",
       "      <th>3</th>\n",
       "      <td>4</td>\n",
       "      <td>15701354</td>\n",
       "      <td>Boni</td>\n",
       "      <td>699</td>\n",
       "      <td>France</td>\n",
       "      <td>Female</td>\n",
       "      <td>39</td>\n",
       "      <td>1</td>\n",
       "      <td>0.00</td>\n",
       "      <td>2</td>\n",
       "      <td>0</td>\n",
       "      <td>0</td>\n",
       "      <td>93826.63</td>\n",
       "      <td>0</td>\n",
       "    </tr>\n",
       "    <tr>\n",
       "      <th>4</th>\n",
       "      <td>5</td>\n",
       "      <td>15737888</td>\n",
       "      <td>Mitchell</td>\n",
       "      <td>850</td>\n",
       "      <td>Spain</td>\n",
       "      <td>Female</td>\n",
       "      <td>43</td>\n",
       "      <td>2</td>\n",
       "      <td>125510.82</td>\n",
       "      <td>1</td>\n",
       "      <td>1</td>\n",
       "      <td>1</td>\n",
       "      <td>79084.10</td>\n",
       "      <td>0</td>\n",
       "    </tr>\n",
       "  </tbody>\n",
       "</table>\n",
       "</div>"
      ],
      "text/plain": [
       "   RowNumber  CustomerId   Surname  CreditScore Geography  Gender  Age  \\\n",
       "0          1    15634602  Hargrave          619    France  Female   42   \n",
       "1          2    15647311      Hill          608     Spain  Female   41   \n",
       "2          3    15619304      Onio          502    France  Female   42   \n",
       "3          4    15701354      Boni          699    France  Female   39   \n",
       "4          5    15737888  Mitchell          850     Spain  Female   43   \n",
       "\n",
       "   Tenure    Balance  NumOfProducts  HasCrCard  IsActiveMember  \\\n",
       "0       2       0.00              1          1               1   \n",
       "1       1   83807.86              1          0               1   \n",
       "2       8  159660.80              3          1               0   \n",
       "3       1       0.00              2          0               0   \n",
       "4       2  125510.82              1          1               1   \n",
       "\n",
       "   EstimatedSalary  Exited  \n",
       "0        101348.88       1  \n",
       "1        112542.58       0  \n",
       "2        113931.57       1  \n",
       "3         93826.63       0  \n",
       "4         79084.10       0  "
      ]
     },
     "execution_count": 2,
     "metadata": {},
     "output_type": "execute_result"
    }
   ],
   "source": [
    "print(df.shape)\n",
    "df.head()"
   ]
  },
  {
   "cell_type": "markdown",
   "id": "d57a1ec9",
   "metadata": {},
   "source": [
    "A coluna Exited, que tentaremos prever, é constituída por 0 ou 1, onde 1 indica que o cliente abandonou o serviço. **Portanto, este é um problema de classificação binária.**"
   ]
  },
  {
   "cell_type": "markdown",
   "id": "700a4bab",
   "metadata": {},
   "source": [
    "No gráfico abaixo podemos verificar que 20.4% dos clientes abandonaram o serviço, enquanto 79.6% permaneceram. Isto indica uma base de dados desbalanceada, que deverá ser tratada posteriormente para o bom funcionamento dos modelos de Machine Learning"
   ]
  },
  {
   "cell_type": "code",
   "execution_count": 6,
   "id": "27701205",
   "metadata": {},
   "outputs": [
    {
     "name": "stdout",
     "output_type": "stream",
     "text": [
      "0    7963\n",
      "1    2037\n",
      "Name: Exited, dtype: int64\n"
     ]
    },
    {
     "data": {
      "image/png": "[encoded data removed]",
      "text/plain": [
       "<Figure size 432x288 with 1 Axes>"
      ]
     },
     "metadata": {},
     "output_type": "display_data"
    }
   ],
   "source": [
    "churn_rate = df['Exited'].value_counts()\n",
    "\n",
    "plt.pie(churn_rate, \n",
    "        labels=['No churn','Churn'], \n",
    "        startangle=180, \n",
    "        autopct='%1.1f%%')\n",
    "\n",
    "print(churn_rate)\n",
    "plt.show()"
   ]
  },
  {
   "cell_type": "markdown",
   "id": "79998e88",
   "metadata": {},
   "source": [
    "Definimos uma função hist() para criarmos histogramas, assim podemos analisar a correlação de algumas colunas com a quantidade de Churn   "
   ]
  },
  {
   "cell_type": "code",
   "execution_count": 328,
   "id": "9160c12a",
   "metadata": {},
   "outputs": [],
   "source": [
    "def hist(column):\n",
    "    plt.hist([df[df.Exited == 0].loc[:, column], df[df.Exited == 1].loc[:, column]], label=['No Churn', 'Churn'])\n",
    "    plt.legend()\n",
    "    plt.show()"
   ]
  },
  {
   "cell_type": "markdown",
   "id": "e4105d40",
   "metadata": {},
   "source": [
    "##### Podemos formular algumas hipóteses analisando estes histogramas:"
   ]
  },
  {
   "cell_type": "markdown",
   "id": "ab29c778",
   "metadata": {},
   "source": [
    "A fidelidade do cliente parece ter uma pequena influência em sua probabilidade de saída"
   ]
  },
  {
   "cell_type": "code",
   "execution_count": 330,
   "id": "f36a8c3e",
   "metadata": {
    "scrolled": true
   },
   "outputs": [
    {
     "data": {
      "image/png": "[encoded data removed]",
      "text/plain": [
       "<Figure size 432x288 with 1 Axes>"
      ]
     },
     "metadata": {
      "needs_background": "light"
     },
     "output_type": "display_data"
    }
   ],
   "source": [
    "hist('Tenure')"
   ]
  },
  {
   "cell_type": "markdown",
   "id": "647f505f",
   "metadata": {},
   "source": [
    "O balanço não parece ter muita influência no churn"
   ]
  },
  {
   "cell_type": "code",
   "execution_count": 331,
   "id": "7cca255b",
   "metadata": {},
   "outputs": [
    {
     "data": {
      "image/png": "[encoded data removed]",
      "text/plain": [
       "<Figure size 432x288 with 1 Axes>"
      ]
     },
     "metadata": {
      "needs_background": "light"
     },
     "output_type": "display_data"
    }
   ],
   "source": [
    "hist('Balance')"
   ]
  },
  {
   "cell_type": "markdown",
   "id": "69cf4391",
   "metadata": {},
   "source": [
    "Clientes entre 40 e 60 anos possuem uma maior probabilidade de saída"
   ]
  },
  {
   "cell_type": "code",
   "execution_count": 335,
   "id": "92fe7ff2",
   "metadata": {},
   "outputs": [
    {
     "data": {
      "image/png": "[encoded data removed]",
      "text/plain": [
       "<Figure size 432x288 with 1 Axes>"
      ]
     },
     "metadata": {
      "needs_background": "light"
     },
     "output_type": "display_data"
    }
   ],
   "source": [
    "hist('Age')"
   ]
  },
  {
   "cell_type": "markdown",
   "id": "d77b7de2",
   "metadata": {},
   "source": [
    "Clientes da alemanha possuem uma maior probabilidade de abandonar o serviço"
   ]
  },
  {
   "cell_type": "code",
   "execution_count": 333,
   "id": "0aacd486",
   "metadata": {},
   "outputs": [
    {
     "data": {
      "image/png": "[encoded data removed]",
      "text/plain": [
       "<Figure size 432x288 with 1 Axes>"
      ]
     },
     "metadata": {
      "needs_background": "light"
     },
     "output_type": "display_data"
    }
   ],
   "source": [
    "hist('Geography')"
   ]
  },
  {
   "cell_type": "markdown",
   "id": "a44c35d4",
   "metadata": {},
   "source": [
    "Clientes com apenas 2 produtos possuem a menor incidência de churn proporcionalmente"
   ]
  },
  {
   "cell_type": "code",
   "execution_count": 334,
   "id": "b2f1dde3",
   "metadata": {},
   "outputs": [
    {
     "data": {
      "image/png": "[encoded data removed]",
      "text/plain": [
       "<Figure size 432x288 with 1 Axes>"
      ]
     },
     "metadata": {
      "needs_background": "light"
     },
     "output_type": "display_data"
    }
   ],
   "source": [
    "hist('NumOfProducts')"
   ]
  },
  {
   "cell_type": "markdown",
   "id": "af49980b",
   "metadata": {},
   "source": [
    "É de suma importância compreendermos estas estatísticas, pois são elas que irão influenciar os modelos preditivos a encontrarem os padrões que podem indicar se cliente está ou não prestes a deixar o serviço. Um cliente francês de 30 anos que adquiriu 2 produtos possui uma chance muito menor de saída que um alemão de 50 anos que adquiriu 3 produtos, e o modelo deve ser capaz de prever isso."
   ]
  },
  {
   "cell_type": "markdown",
   "id": "56bdee94",
   "metadata": {},
   "source": [
    "## Tratamento dos dados"
   ]
  },
  {
   "cell_type": "markdown",
   "id": "13744cd8",
   "metadata": {},
   "source": [
    "Podemos excluir as colunas RowNumber, CustomerId e Surname, pois referem-se apenas à dados de cadastro, não possuindo influência na decisão do cliente de abandonar ou não o serviço, e, portanto, sem utilidade para um modelo preditivo"
   ]
  },
  {
   "cell_type": "code",
   "execution_count": 3,
   "id": "93eb45ef",
   "metadata": {},
   "outputs": [
    {
     "data": {
      "text/html": [
       "<div>\n",
       "<style scoped>\n",
       "    .dataframe tbody tr th:only-of-type {\n",
       "        vertical-align: middle;\n",
       "    }\n",
       "\n",
       "    .dataframe tbody tr th {\n",
       "        vertical-align: top;\n",
       "    }\n",
       "\n",
       "    .dataframe thead th {\n",
       "        text-align: right;\n",
       "    }\n",
       "</style>\n",
       "<table border=\"1\" class=\"dataframe\">\n",
       "  <thead>\n",
       "    <tr style=\"text-align: right;\">\n",
       "      <th></th>\n",
       "      <th>CreditScore</th>\n",
       "      <th>Geography</th>\n",
       "      <th>Gender</th>\n",
       "      <th>Age</th>\n",
       "      <th>Tenure</th>\n",
       "      <th>Balance</th>\n",
       "      <th>NumOfProducts</th>\n",
       "      <th>HasCrCard</th>\n",
       "      <th>IsActiveMember</th>\n",
       "      <th>EstimatedSalary</th>\n",
       "      <th>Exited</th>\n",
       "    </tr>\n",
       "  </thead>\n",
       "  <tbody>\n",
       "    <tr>\n",
       "      <th>0</th>\n",
       "      <td>619</td>\n",
       "      <td>France</td>\n",
       "      <td>Female</td>\n",
       "      <td>42</td>\n",
       "      <td>2</td>\n",
       "      <td>0.00</td>\n",
       "      <td>1</td>\n",
       "      <td>1</td>\n",
       "      <td>1</td>\n",
       "      <td>101348.88</td>\n",
       "      <td>1</td>\n",
       "    </tr>\n",
       "    <tr>\n",
       "      <th>1</th>\n",
       "      <td>608</td>\n",
       "      <td>Spain</td>\n",
       "      <td>Female</td>\n",
       "      <td>41</td>\n",
       "      <td>1</td>\n",
       "      <td>83807.86</td>\n",
       "      <td>1</td>\n",
       "      <td>0</td>\n",
       "      <td>1</td>\n",
       "      <td>112542.58</td>\n",
       "      <td>0</td>\n",
       "    </tr>\n",
       "    <tr>\n",
       "      <th>2</th>\n",
       "      <td>502</td>\n",
       "      <td>France</td>\n",
       "      <td>Female</td>\n",
       "      <td>42</td>\n",
       "      <td>8</td>\n",
       "      <td>159660.80</td>\n",
       "      <td>3</td>\n",
       "      <td>1</td>\n",
       "      <td>0</td>\n",
       "      <td>113931.57</td>\n",
       "      <td>1</td>\n",
       "    </tr>\n",
       "    <tr>\n",
       "      <th>3</th>\n",
       "      <td>699</td>\n",
       "      <td>France</td>\n",
       "      <td>Female</td>\n",
       "      <td>39</td>\n",
       "      <td>1</td>\n",
       "      <td>0.00</td>\n",
       "      <td>2</td>\n",
       "      <td>0</td>\n",
       "      <td>0</td>\n",
       "      <td>93826.63</td>\n",
       "      <td>0</td>\n",
       "    </tr>\n",
       "    <tr>\n",
       "      <th>4</th>\n",
       "      <td>850</td>\n",
       "      <td>Spain</td>\n",
       "      <td>Female</td>\n",
       "      <td>43</td>\n",
       "      <td>2</td>\n",
       "      <td>125510.82</td>\n",
       "      <td>1</td>\n",
       "      <td>1</td>\n",
       "      <td>1</td>\n",
       "      <td>79084.10</td>\n",
       "      <td>0</td>\n",
       "    </tr>\n",
       "  </tbody>\n",
       "</table>\n",
       "</div>"
      ],
      "text/plain": [
       "   CreditScore Geography  Gender  Age  Tenure    Balance  NumOfProducts  \\\n",
       "0          619    France  Female   42       2       0.00              1   \n",
       "1          608     Spain  Female   41       1   83807.86              1   \n",
       "2          502    France  Female   42       8  159660.80              3   \n",
       "3          699    France  Female   39       1       0.00              2   \n",
       "4          850     Spain  Female   43       2  125510.82              1   \n",
       "\n",
       "   HasCrCard  IsActiveMember  EstimatedSalary  Exited  \n",
       "0          1               1        101348.88       1  \n",
       "1          0               1        112542.58       0  \n",
       "2          1               0        113931.57       1  \n",
       "3          0               0         93826.63       0  \n",
       "4          1               1         79084.10       0  "
      ]
     },
     "execution_count": 3,
     "metadata": {},
     "output_type": "execute_result"
    }
   ],
   "source": [
    "df.drop(df.columns[[0, 1, 2]], axis = 1, inplace=True)\n",
    "df.head()"
   ]
  },
  {
   "cell_type": "markdown",
   "id": "c89500e7",
   "metadata": {},
   "source": [
    "Verificamos se alguma coluna possui dados nulos que precisam ser tratados. Neste caso, todas as colunas estão devidamente preenchidas"
   ]
  },
  {
   "cell_type": "code",
   "execution_count": 5,
   "id": "200d34ce",
   "metadata": {},
   "outputs": [
    {
     "data": {
      "text/plain": [
       "CreditScore        False\n",
       "Geography          False\n",
       "Gender             False\n",
       "Age                False\n",
       "Tenure             False\n",
       "Balance            False\n",
       "NumOfProducts      False\n",
       "HasCrCard          False\n",
       "IsActiveMember     False\n",
       "EstimatedSalary    False\n",
       "Exited             False\n",
       "dtype: bool"
      ]
     },
     "execution_count": 5,
     "metadata": {},
     "output_type": "execute_result"
    }
   ],
   "source": [
    "df.isna().any()"
   ]
  },
  {
   "cell_type": "markdown",
   "id": "abd04d2e",
   "metadata": {},
   "source": [
    "Alteramos a coluna Gender para, ao invés de \"Female\" ou \"Male\", armazenar 1 ou 0 respectivamente"
   ]
  },
  {
   "cell_type": "code",
   "execution_count": 9,
   "id": "f9832190",
   "metadata": {},
   "outputs": [
    {
     "data": {
      "text/plain": [
       "array([1, 0], dtype=int64)"
      ]
     },
     "execution_count": 9,
     "metadata": {},
     "output_type": "execute_result"
    }
   ],
   "source": [
    "df['Gender'].replace({'Female':1, 'Male':0}, inplace = True)\n",
    "df['Gender'].unique()"
   ]
  },
  {
   "cell_type": "markdown",
   "id": "376c2b54",
   "metadata": {},
   "source": [
    "Como podemos verificar abaixo, a coluna Geography possui três valores únicos de dados armazenados em forma de texto "
   ]
  },
  {
   "cell_type": "code",
   "execution_count": 308,
   "id": "cdd79ac9",
   "metadata": {},
   "outputs": [
    {
     "data": {
      "text/plain": [
       "array(['France', 'Spain', 'Germany'], dtype=object)"
      ]
     },
     "execution_count": 308,
     "metadata": {},
     "output_type": "execute_result"
    }
   ],
   "source": [
    "df['Geography'].unique()"
   ]
  },
  {
   "cell_type": "markdown",
   "id": "bb7a80a7",
   "metadata": {},
   "source": [
    "Utilizamos a função get_dummies() do Pandas para criar três novas colunas: Geography_France, Geography_Germany e Geography_Spain, que receberão o valor 1 caso o cliente seja do respectivo país e 0 caso contário."
   ]
  },
  {
   "cell_type": "code",
   "execution_count": 10,
   "id": "9e750b4e",
   "metadata": {},
   "outputs": [
    {
     "data": {
      "text/plain": [
       "Index(['CreditScore', 'Gender', 'Age', 'Tenure', 'Balance', 'NumOfProducts',\n",
       "       'HasCrCard', 'IsActiveMember', 'EstimatedSalary', 'Exited',\n",
       "       'Geography_France', 'Geography_Germany', 'Geography_Spain'],\n",
       "      dtype='object')"
      ]
     },
     "execution_count": 10,
     "metadata": {},
     "output_type": "execute_result"
    }
   ],
   "source": [
    "df = pd.get_dummies(data=df, columns=['Geography'])\n",
    "df.columns"
   ]
  },
  {
   "cell_type": "markdown",
   "id": "8f976db5",
   "metadata": {},
   "source": [
    "Agora todos os valores armazenados na tabela são númericos, facilitando sua aplicação em um modelo preditivo"
   ]
  },
  {
   "cell_type": "code",
   "execution_count": 11,
   "id": "3597bf6c",
   "metadata": {},
   "outputs": [
    {
     "data": {
      "text/plain": [
       "CreditScore            int64\n",
       "Gender                 int64\n",
       "Age                    int64\n",
       "Tenure                 int64\n",
       "Balance              float64\n",
       "NumOfProducts          int64\n",
       "HasCrCard              int64\n",
       "IsActiveMember         int64\n",
       "EstimatedSalary      float64\n",
       "Exited                 int64\n",
       "Geography_France       uint8\n",
       "Geography_Germany      uint8\n",
       "Geography_Spain        uint8\n",
       "dtype: object"
      ]
     },
     "execution_count": 11,
     "metadata": {},
     "output_type": "execute_result"
    }
   ],
   "source": [
    "df.dtypes"
   ]
  },
  {
   "cell_type": "markdown",
   "id": "4c5b308a",
   "metadata": {},
   "source": [
    "No entando, alguns valores ainda precisam ser colocados em escala, isto é, entre 0 e 1. Fazemos isto chamando a função MinMaxScaler() para as colunas que ainda não estão entre 0 e 1."
   ]
  },
  {
   "cell_type": "code",
   "execution_count": 13,
   "id": "418f530b",
   "metadata": {},
   "outputs": [
    {
     "data": {
      "text/html": [
       "<div>\n",
       "<style scoped>\n",
       "    .dataframe tbody tr th:only-of-type {\n",
       "        vertical-align: middle;\n",
       "    }\n",
       "\n",
       "    .dataframe tbody tr th {\n",
       "        vertical-align: top;\n",
       "    }\n",
       "\n",
       "    .dataframe thead th {\n",
       "        text-align: right;\n",
       "    }\n",
       "</style>\n",
       "<table border=\"1\" class=\"dataframe\">\n",
       "  <thead>\n",
       "    <tr style=\"text-align: right;\">\n",
       "      <th></th>\n",
       "      <th>CreditScore</th>\n",
       "      <th>Gender</th>\n",
       "      <th>Age</th>\n",
       "      <th>Tenure</th>\n",
       "      <th>Balance</th>\n",
       "      <th>NumOfProducts</th>\n",
       "      <th>HasCrCard</th>\n",
       "      <th>IsActiveMember</th>\n",
       "      <th>EstimatedSalary</th>\n",
       "      <th>Exited</th>\n",
       "      <th>Geography_France</th>\n",
       "      <th>Geography_Germany</th>\n",
       "      <th>Geography_Spain</th>\n",
       "    </tr>\n",
       "  </thead>\n",
       "  <tbody>\n",
       "    <tr>\n",
       "      <th>0</th>\n",
       "      <td>0.538</td>\n",
       "      <td>1</td>\n",
       "      <td>0.324324</td>\n",
       "      <td>0.2</td>\n",
       "      <td>0.000000</td>\n",
       "      <td>0.000000</td>\n",
       "      <td>1</td>\n",
       "      <td>1</td>\n",
       "      <td>0.506735</td>\n",
       "      <td>1</td>\n",
       "      <td>1</td>\n",
       "      <td>0</td>\n",
       "      <td>0</td>\n",
       "    </tr>\n",
       "    <tr>\n",
       "      <th>1</th>\n",
       "      <td>0.516</td>\n",
       "      <td>1</td>\n",
       "      <td>0.310811</td>\n",
       "      <td>0.1</td>\n",
       "      <td>0.334031</td>\n",
       "      <td>0.000000</td>\n",
       "      <td>0</td>\n",
       "      <td>1</td>\n",
       "      <td>0.562709</td>\n",
       "      <td>0</td>\n",
       "      <td>0</td>\n",
       "      <td>0</td>\n",
       "      <td>1</td>\n",
       "    </tr>\n",
       "    <tr>\n",
       "      <th>2</th>\n",
       "      <td>0.304</td>\n",
       "      <td>1</td>\n",
       "      <td>0.324324</td>\n",
       "      <td>0.8</td>\n",
       "      <td>0.636357</td>\n",
       "      <td>0.666667</td>\n",
       "      <td>1</td>\n",
       "      <td>0</td>\n",
       "      <td>0.569654</td>\n",
       "      <td>1</td>\n",
       "      <td>1</td>\n",
       "      <td>0</td>\n",
       "      <td>0</td>\n",
       "    </tr>\n",
       "    <tr>\n",
       "      <th>3</th>\n",
       "      <td>0.698</td>\n",
       "      <td>1</td>\n",
       "      <td>0.283784</td>\n",
       "      <td>0.1</td>\n",
       "      <td>0.000000</td>\n",
       "      <td>0.333333</td>\n",
       "      <td>0</td>\n",
       "      <td>0</td>\n",
       "      <td>0.469120</td>\n",
       "      <td>0</td>\n",
       "      <td>1</td>\n",
       "      <td>0</td>\n",
       "      <td>0</td>\n",
       "    </tr>\n",
       "    <tr>\n",
       "      <th>4</th>\n",
       "      <td>1.000</td>\n",
       "      <td>1</td>\n",
       "      <td>0.337838</td>\n",
       "      <td>0.2</td>\n",
       "      <td>0.500246</td>\n",
       "      <td>0.000000</td>\n",
       "      <td>1</td>\n",
       "      <td>1</td>\n",
       "      <td>0.395400</td>\n",
       "      <td>0</td>\n",
       "      <td>0</td>\n",
       "      <td>0</td>\n",
       "      <td>1</td>\n",
       "    </tr>\n",
       "  </tbody>\n",
       "</table>\n",
       "</div>"
      ],
      "text/plain": [
       "   CreditScore  Gender       Age  Tenure   Balance  NumOfProducts  HasCrCard  \\\n",
       "0        0.538       1  0.324324     0.2  0.000000       0.000000          1   \n",
       "1        0.516       1  0.310811     0.1  0.334031       0.000000          0   \n",
       "2        0.304       1  0.324324     0.8  0.636357       0.666667          1   \n",
       "3        0.698       1  0.283784     0.1  0.000000       0.333333          0   \n",
       "4        1.000       1  0.337838     0.2  0.500246       0.000000          1   \n",
       "\n",
       "   IsActiveMember  EstimatedSalary  Exited  Geography_France  \\\n",
       "0               1         0.506735       1                 1   \n",
       "1               1         0.562709       0                 0   \n",
       "2               0         0.569654       1                 1   \n",
       "3               0         0.469120       0                 1   \n",
       "4               1         0.395400       0                 0   \n",
       "\n",
       "   Geography_Germany  Geography_Spain  \n",
       "0                  0                0  \n",
       "1                  0                1  \n",
       "2                  0                0  \n",
       "3                  0                0  \n",
       "4                  0                1  "
      ]
     },
     "execution_count": 13,
     "metadata": {},
     "output_type": "execute_result"
    }
   ],
   "source": [
    "to_scale = ['CreditScore', 'Age', 'Tenure', 'Balance', 'NumOfProducts', 'EstimatedSalary']\n",
    "scaler = MinMaxScaler()\n",
    "df[to_scale] = scaler.fit_transform(df[to_scale])\n",
    "\n",
    "df.head()"
   ]
  },
  {
   "cell_type": "markdown",
   "id": "9bbbc7ae",
   "metadata": {},
   "source": [
    "Criamos dois novos DataFrames: \"x\", contendo os valores de todas as colunas da tabela menos Exited, e \"y\", contendo os valores da coluna Exited. Isto é necessário para que o modelo possa ser treinado e testado sem saber os valores de Exited préviamente"
   ]
  },
  {
   "cell_type": "code",
   "execution_count": 257,
   "id": "5bea1c64",
   "metadata": {},
   "outputs": [],
   "source": [
    "x = df.drop('Exited', axis='columns')\n",
    "y = df['Exited']"
   ]
  },
  {
   "cell_type": "markdown",
   "id": "606acf6b",
   "metadata": {},
   "source": [
    "Abaixo temos a definição da função para a criação de um modelo de predição utilizando Redes Neurais Artificiais "
   ]
  },
  {
   "cell_type": "code",
   "execution_count": 310,
   "id": "773020be",
   "metadata": {
    "scrolled": true
   },
   "outputs": [],
   "source": [
    "#Recebemos como parâmetros x e y de treinamento e de testes\n",
    "def ann(x_train, y_train, x_test, y_test):\n",
    "    \n",
    "    #Criamos um modelo de RNA utilizando Keras, da biblioteca TensorFlow\n",
    "    model = keras.Sequential([\n",
    "        #Definimos as camadas de nerônios com droput de 20% para cada\n",
    "        keras.layers.Dense(12, input_shape=(12,), activation='relu'),\n",
    "        keras.layers.Dropout(0.2),\n",
    "        keras.layers.Dense(7, activation='relu'),\n",
    "        keras.layers.Dropout(0.2),\n",
    "        keras.layers.Dense(1, activation='sigmoid'), \n",
    "    ])\n",
    "    \n",
    "    #Compilados o modelo\n",
    "    model.compile(optimizer='adam',\n",
    "                 loss='binary_crossentropy',\n",
    "                 metrics=['accuracy'])\n",
    "    \n",
    "    #Treinamos o modelo utilizando x e y de treinamento, executando 70 epochs\n",
    "    model.fit(x_train, y_train, epochs=70)\n",
    "    \n",
    "    #Prevemos e arredondamos (para 0 ou 1) os valores de Exited para x de teste\n",
    "    y_pred = model.predict(x_test)\n",
    "    y_pred = np.round(y_pred)\n",
    "    \n",
    "    #Verificamos os resultados comparando y de teste com y previsto\n",
    "    print(classification_report(y_test, y_pred))\n",
    "    \n",
    "    return y_pred"
   ]
  },
  {
   "cell_type": "markdown",
   "id": "146f7e70",
   "metadata": {},
   "source": [
    "Rodamos a Rede Neural para o DataFrame ainda desbalanceado. Primeiramente separamos x e y em x_train, x_test, y_train e y_test utilizando train_test_split(), passando então estes DataFrames para ann(). Nesta execução, a pontuação F1 para a predição de 1 (positiva para churn) foi de apenas 0.48, enquanto para 0 foi de 0.91. Isto ocorre pelo desbalanceamento do DataFrame, pois existem muito mais linhas com Exited = 0 para que o modelo possa treinar"
   ]
  },
  {
   "cell_type": "code",
   "execution_count": 314,
   "id": "71fca5dd",
   "metadata": {
    "scrolled": true
   },
   "outputs": [
    {
     "name": "stdout",
     "output_type": "stream",
     "text": [
      "Epoch 1/70\n",
      "250/250 [==============================] - 0s 1ms/step - loss: 0.5834 - accuracy: 0.7115\n",
      "Epoch 2/70\n",
      "250/250 [==============================] - 0s 1ms/step - loss: 0.4983 - accuracy: 0.7934\n",
      "Epoch 3/70\n",
      "250/250 [==============================] - 0s 991us/step - loss: 0.4857 - accuracy: 0.7956\n",
      "Epoch 4/70\n",
      "250/250 [==============================] - 0s 951us/step - loss: 0.4793 - accuracy: 0.7956\n",
      "Epoch 5/70\n",
      "250/250 [==============================] - 0s 1ms/step - loss: 0.4745 - accuracy: 0.7970\n",
      "Epoch 6/70\n",
      "250/250 [==============================] - 0s 983us/step - loss: 0.4675 - accuracy: 0.7999\n",
      "Epoch 7/70\n",
      "250/250 [==============================] - 0s 991us/step - loss: 0.4582 - accuracy: 0.8039\n",
      "Epoch 8/70\n",
      "250/250 [==============================] - 0s 1ms/step - loss: 0.4528 - accuracy: 0.8102\n",
      "Epoch 9/70\n",
      "250/250 [==============================] - 0s 943us/step - loss: 0.4468 - accuracy: 0.8101\n",
      "Epoch 10/70\n",
      "250/250 [==============================] - 0s 943us/step - loss: 0.4452 - accuracy: 0.8090\n",
      "Epoch 11/70\n",
      "250/250 [==============================] - 0s 951us/step - loss: 0.4401 - accuracy: 0.8101\n",
      "Epoch 12/70\n",
      "250/250 [==============================] - 0s 907us/step - loss: 0.4347 - accuracy: 0.8130\n",
      "Epoch 13/70\n",
      "250/250 [==============================] - 0s 987us/step - loss: 0.4355 - accuracy: 0.8129\n",
      "Epoch 14/70\n",
      "250/250 [==============================] - 0s 1ms/step - loss: 0.4277 - accuracy: 0.8152\n",
      "Epoch 15/70\n",
      "250/250 [==============================] - 0s 1ms/step - loss: 0.4249 - accuracy: 0.8146\n",
      "Epoch 16/70\n",
      "250/250 [==============================] - 0s 1ms/step - loss: 0.4269 - accuracy: 0.8189\n",
      "Epoch 17/70\n",
      "250/250 [==============================] - 0s 2ms/step - loss: 0.4259 - accuracy: 0.8164\n",
      "Epoch 18/70\n",
      "250/250 [==============================] - 0s 1ms/step - loss: 0.4194 - accuracy: 0.8221\n",
      "Epoch 19/70\n",
      "250/250 [==============================] - 0s 911us/step - loss: 0.4207 - accuracy: 0.8223\n",
      "Epoch 20/70\n",
      "250/250 [==============================] - 0s 919us/step - loss: 0.4127 - accuracy: 0.8292\n",
      "Epoch 21/70\n",
      "250/250 [==============================] - 0s 943us/step - loss: 0.4116 - accuracy: 0.8282\n",
      "Epoch 22/70\n",
      "250/250 [==============================] - 0s 899us/step - loss: 0.4149 - accuracy: 0.8246\n",
      "Epoch 23/70\n",
      "250/250 [==============================] - 0s 919us/step - loss: 0.4171 - accuracy: 0.8251\n",
      "Epoch 24/70\n",
      "250/250 [==============================] - 0s 923us/step - loss: 0.4123 - accuracy: 0.8255\n",
      "Epoch 25/70\n",
      "250/250 [==============================] - 0s 943us/step - loss: 0.4117 - accuracy: 0.8274\n",
      "Epoch 26/70\n",
      "250/250 [==============================] - 0s 1ms/step - loss: 0.4074 - accuracy: 0.8289\n",
      "Epoch 27/70\n",
      "250/250 [==============================] - 0s 1ms/step - loss: 0.4127 - accuracy: 0.8273\n",
      "Epoch 28/70\n",
      "250/250 [==============================] - 0s 1ms/step - loss: 0.4049 - accuracy: 0.8305\n",
      "Epoch 29/70\n",
      "250/250 [==============================] - 0s 1ms/step - loss: 0.4057 - accuracy: 0.8313\n",
      "Epoch 30/70\n",
      "250/250 [==============================] - 0s 919us/step - loss: 0.4023 - accuracy: 0.8344\n",
      "Epoch 31/70\n",
      "250/250 [==============================] - 0s 907us/step - loss: 0.4026 - accuracy: 0.8303\n",
      "Epoch 32/70\n",
      "250/250 [==============================] - 0s 959us/step - loss: 0.3978 - accuracy: 0.8350\n",
      "Epoch 33/70\n",
      "250/250 [==============================] - 0s 983us/step - loss: 0.3978 - accuracy: 0.8336\n",
      "Epoch 34/70\n",
      "250/250 [==============================] - 0s 975us/step - loss: 0.4014 - accuracy: 0.8326\n",
      "Epoch 35/70\n",
      "250/250 [==============================] - 0s 923us/step - loss: 0.3984 - accuracy: 0.8328\n",
      "Epoch 36/70\n",
      "250/250 [==============================] - 0s 939us/step - loss: 0.4006 - accuracy: 0.8314\n",
      "Epoch 37/70\n",
      "250/250 [==============================] - 0s 971us/step - loss: 0.4034 - accuracy: 0.8291\n",
      "Epoch 38/70\n",
      "250/250 [==============================] - 0s 907us/step - loss: 0.3917 - accuracy: 0.8341\n",
      "Epoch 39/70\n",
      "250/250 [==============================] - 0s 915us/step - loss: 0.3997 - accuracy: 0.8306\n",
      "Epoch 40/70\n",
      "250/250 [==============================] - 0s 1ms/step - loss: 0.3963 - accuracy: 0.8349\n",
      "Epoch 41/70\n",
      "250/250 [==============================] - 0s 1ms/step - loss: 0.3954 - accuracy: 0.8314\n",
      "Epoch 42/70\n",
      "250/250 [==============================] - 0s 1ms/step - loss: 0.3897 - accuracy: 0.8391\n",
      "Epoch 43/70\n",
      "250/250 [==============================] - 0s 1ms/step - loss: 0.3932 - accuracy: 0.8349\n",
      "Epoch 44/70\n",
      "250/250 [==============================] - 0s 931us/step - loss: 0.3880 - accuracy: 0.8381\n",
      "Epoch 45/70\n",
      "250/250 [==============================] - 0s 947us/step - loss: 0.3856 - accuracy: 0.8365\n",
      "Epoch 46/70\n",
      "250/250 [==============================] - 0s 1ms/step - loss: 0.3938 - accuracy: 0.8349\n",
      "Epoch 47/70\n",
      "250/250 [==============================] - 0s 2ms/step - loss: 0.3925 - accuracy: 0.8325: 0s - loss: 0.3934 - accuracy: 0.\n",
      "Epoch 48/70\n",
      "250/250 [==============================] - 0s 1ms/step - loss: 0.3879 - accuracy: 0.8360\n",
      "Epoch 49/70\n",
      "250/250 [==============================] - 0s 1ms/step - loss: 0.3941 - accuracy: 0.8340\n",
      "Epoch 50/70\n",
      "250/250 [==============================] - 0s 1ms/step - loss: 0.3901 - accuracy: 0.8353\n",
      "Epoch 51/70\n",
      "250/250 [==============================] - 0s 1ms/step - loss: 0.3854 - accuracy: 0.8386\n",
      "Epoch 52/70\n",
      "250/250 [==============================] - 0s 975us/step - loss: 0.3914 - accuracy: 0.8345\n",
      "Epoch 53/70\n",
      "250/250 [==============================] - 0s 991us/step - loss: 0.3854 - accuracy: 0.8404\n",
      "Epoch 54/70\n",
      "250/250 [==============================] - 0s 987us/step - loss: 0.3892 - accuracy: 0.8372\n",
      "Epoch 55/70\n",
      "250/250 [==============================] - 0s 987us/step - loss: 0.3939 - accuracy: 0.8342\n",
      "Epoch 56/70\n",
      "250/250 [==============================] - 0s 971us/step - loss: 0.3864 - accuracy: 0.8389\n",
      "Epoch 57/70\n",
      "250/250 [==============================] - 0s 971us/step - loss: 0.3894 - accuracy: 0.8379\n",
      "Epoch 58/70\n",
      "250/250 [==============================] - 0s 971us/step - loss: 0.3873 - accuracy: 0.8379\n",
      "Epoch 59/70\n",
      "250/250 [==============================] - 0s 959us/step - loss: 0.3831 - accuracy: 0.8401\n",
      "Epoch 60/70\n",
      "250/250 [==============================] - 0s 959us/step - loss: 0.3882 - accuracy: 0.8375\n",
      "Epoch 61/70\n",
      "250/250 [==============================] - 0s 983us/step - loss: 0.3915 - accuracy: 0.8346\n",
      "Epoch 62/70\n",
      "250/250 [==============================] - 0s 963us/step - loss: 0.3881 - accuracy: 0.8355\n",
      "Epoch 63/70\n",
      "250/250 [==============================] - 0s 959us/step - loss: 0.3843 - accuracy: 0.8360\n",
      "Epoch 64/70\n",
      "250/250 [==============================] - 0s 967us/step - loss: 0.3858 - accuracy: 0.8381\n",
      "Epoch 65/70\n",
      "250/250 [==============================] - 0s 963us/step - loss: 0.3827 - accuracy: 0.8396\n",
      "Epoch 66/70\n",
      "250/250 [==============================] - 0s 1ms/step - loss: 0.3850 - accuracy: 0.8393\n",
      "Epoch 67/70\n",
      "250/250 [==============================] - 0s 1ms/step - loss: 0.3821 - accuracy: 0.8431\n",
      "Epoch 68/70\n",
      "250/250 [==============================] - 0s 1ms/step - loss: 0.3784 - accuracy: 0.8403\n",
      "Epoch 69/70\n",
      "250/250 [==============================] - 0s 1ms/step - loss: 0.3830 - accuracy: 0.8379\n",
      "Epoch 70/70\n",
      "250/250 [==============================] - 0s 995us/step - loss: 0.3842 - accuracy: 0.8346\n",
      "              precision    recall  f1-score   support\n",
      "\n",
      "           0       0.86      0.97      0.91      1595\n",
      "           1       0.76      0.36      0.48       405\n",
      "\n",
      "    accuracy                           0.85      2000\n",
      "   macro avg       0.81      0.66      0.70      2000\n",
      "weighted avg       0.84      0.85      0.82      2000\n",
      "\n"
     ]
    }
   ],
   "source": [
    "x_train, x_test, y_train, y_test = train_test_split(x, y, test_size=0.2, random_state=5)\n",
    "\n",
    "y_pred = ann(x_train, y_train, x_test, y_test)"
   ]
  },
  {
   "cell_type": "markdown",
   "id": "81985882",
   "metadata": {},
   "source": [
    "Para resolver este problema, podemos utilizar técnicas de undersampling ou oversampling para igualar o número de classificações positivas e negativas. Neste caso utilizamos a técnica de SMOTE (Synthetic Minority Oversampling Technique), um tipo de oversampling onde criam-se versões sintéticas dos dados baseados na classe minoritária, para igualá-la ao número de dados da classe majoritária. Neste caso, a pontuação F1 para a previsão de churn passou para 59%, a precisão diminuiu para 49% e o recall aumentou para 73%."
   ]
  },
  {
   "cell_type": "code",
   "execution_count": 262,
   "id": "5b1f71b2",
   "metadata": {
    "scrolled": true
   },
   "outputs": [
    {
     "name": "stdout",
     "output_type": "stream",
     "text": [
      "Epoch 1/70\n",
      "398/398 [==============================] - 0s 1ms/step - loss: 0.6876 - accuracy: 0.5421\n",
      "Epoch 2/70\n",
      "398/398 [==============================] - 0s 1ms/step - loss: 0.6511 - accuracy: 0.6165\n",
      "Epoch 3/70\n",
      "398/398 [==============================] - 0s 987us/step - loss: 0.6257 - accuracy: 0.6559\n",
      "Epoch 4/70\n",
      "398/398 [==============================] - 0s 957us/step - loss: 0.6027 - accuracy: 0.6731\n",
      "Epoch 5/70\n",
      "398/398 [==============================] - 1s 1ms/step - loss: 0.5842 - accuracy: 0.6924\n",
      "Epoch 6/70\n",
      "398/398 [==============================] - 0s 1ms/step - loss: 0.5727 - accuracy: 0.7030\n",
      "Epoch 7/70\n",
      "398/398 [==============================] - 0s 1ms/step - loss: 0.5691 - accuracy: 0.7094\n",
      "Epoch 8/70\n",
      "398/398 [==============================] - 0s 929us/step - loss: 0.5608 - accuracy: 0.7151\n",
      "Epoch 9/70\n",
      "398/398 [==============================] - 1s 1ms/step - loss: 0.5597 - accuracy: 0.7212\n",
      "Epoch 10/70\n",
      "398/398 [==============================] - 1s 1ms/step - loss: 0.5552 - accuracy: 0.7230\n",
      "Epoch 11/70\n",
      "398/398 [==============================] - 0s 1ms/step - loss: 0.5484 - accuracy: 0.7274\n",
      "Epoch 12/70\n",
      "398/398 [==============================] - 0s 1ms/step - loss: 0.5470 - accuracy: 0.7328\n",
      "Epoch 13/70\n",
      "398/398 [==============================] - 1s 2ms/step - loss: 0.5460 - accuracy: 0.7335: 0s - loss: 0.5\n",
      "Epoch 14/70\n",
      "398/398 [==============================] - 0s 1ms/step - loss: 0.5395 - accuracy: 0.7373\n",
      "Epoch 15/70\n",
      "398/398 [==============================] - 0s 974us/step - loss: 0.5374 - accuracy: 0.7381\n",
      "Epoch 16/70\n",
      "398/398 [==============================] - 0s 1ms/step - loss: 0.5334 - accuracy: 0.7370\n",
      "Epoch 17/70\n",
      "398/398 [==============================] - 0s 1ms/step - loss: 0.5276 - accuracy: 0.7411\n",
      "Epoch 18/70\n",
      "398/398 [==============================] - 0s 979us/step - loss: 0.5250 - accuracy: 0.7491\n",
      "Epoch 19/70\n",
      "398/398 [==============================] - 0s 947us/step - loss: 0.5260 - accuracy: 0.7461\n",
      "Epoch 20/70\n",
      "398/398 [==============================] - 0s 957us/step - loss: 0.5250 - accuracy: 0.7488\n",
      "Epoch 21/70\n",
      "398/398 [==============================] - 0s 952us/step - loss: 0.5200 - accuracy: 0.7476\n",
      "Epoch 22/70\n",
      "398/398 [==============================] - 0s 962us/step - loss: 0.5170 - accuracy: 0.7498\n",
      "Epoch 23/70\n",
      "398/398 [==============================] - 0s 987us/step - loss: 0.5107 - accuracy: 0.7554\n",
      "Epoch 24/70\n",
      "398/398 [==============================] - 0s 952us/step - loss: 0.5102 - accuracy: 0.7512\n",
      "Epoch 25/70\n",
      "398/398 [==============================] - 0s 954us/step - loss: 0.5030 - accuracy: 0.7561\n",
      "Epoch 26/70\n",
      "398/398 [==============================] - 0s 972us/step - loss: 0.4986 - accuracy: 0.7618\n",
      "Epoch 27/70\n",
      "398/398 [==============================] - 0s 962us/step - loss: 0.4988 - accuracy: 0.7593\n",
      "Epoch 28/70\n",
      "398/398 [==============================] - 0s 964us/step - loss: 0.5015 - accuracy: 0.7575\n",
      "Epoch 29/70\n",
      "398/398 [==============================] - 0s 967us/step - loss: 0.4970 - accuracy: 0.7595\n",
      "Epoch 30/70\n",
      "398/398 [==============================] - 0s 1ms/step - loss: 0.4974 - accuracy: 0.7599\n",
      "Epoch 31/70\n",
      "398/398 [==============================] - 0s 1ms/step - loss: 0.4896 - accuracy: 0.7636: 0s - loss: 0.4828 - accu\n",
      "Epoch 32/70\n",
      "398/398 [==============================] - 0s 999us/step - loss: 0.4930 - accuracy: 0.7617\n",
      "Epoch 33/70\n",
      "398/398 [==============================] - 0s 999us/step - loss: 0.4919 - accuracy: 0.7626\n",
      "Epoch 34/70\n",
      "398/398 [==============================] - 0s 967us/step - loss: 0.4920 - accuracy: 0.7620\n",
      "Epoch 35/70\n",
      "398/398 [==============================] - 0s 932us/step - loss: 0.4893 - accuracy: 0.7618\n",
      "Epoch 36/70\n",
      "398/398 [==============================] - 0s 962us/step - loss: 0.4902 - accuracy: 0.7622\n",
      "Epoch 37/70\n",
      "398/398 [==============================] - 0s 977us/step - loss: 0.4923 - accuracy: 0.7608\n",
      "Epoch 38/70\n",
      "398/398 [==============================] - 0s 967us/step - loss: 0.4890 - accuracy: 0.7683\n",
      "Epoch 39/70\n",
      "398/398 [==============================] - 0s 969us/step - loss: 0.4885 - accuracy: 0.7652\n",
      "Epoch 40/70\n",
      "398/398 [==============================] - 0s 962us/step - loss: 0.4912 - accuracy: 0.7584\n",
      "Epoch 41/70\n",
      "398/398 [==============================] - 0s 1ms/step - loss: 0.4881 - accuracy: 0.7617\n",
      "Epoch 42/70\n",
      "398/398 [==============================] - 0s 1ms/step - loss: 0.4870 - accuracy: 0.7649\n",
      "Epoch 43/70\n",
      "398/398 [==============================] - 0s 994us/step - loss: 0.4833 - accuracy: 0.7647\n",
      "Epoch 44/70\n",
      "398/398 [==============================] - 0s 959us/step - loss: 0.4895 - accuracy: 0.7604\n",
      "Epoch 45/70\n",
      "398/398 [==============================] - 0s 939us/step - loss: 0.4865 - accuracy: 0.7656\n",
      "Epoch 46/70\n",
      "398/398 [==============================] - 0s 984us/step - loss: 0.4849 - accuracy: 0.7659\n",
      "Epoch 47/70\n",
      "398/398 [==============================] - 0s 977us/step - loss: 0.4819 - accuracy: 0.7663\n",
      "Epoch 48/70\n",
      "398/398 [==============================] - 0s 1ms/step - loss: 0.4844 - accuracy: 0.7663\n",
      "Epoch 49/70\n",
      "398/398 [==============================] - 0s 1ms/step - loss: 0.4835 - accuracy: 0.7696\n",
      "Epoch 50/70\n",
      "398/398 [==============================] - 0s 1ms/step - loss: 0.4850 - accuracy: 0.7627\n",
      "Epoch 51/70\n",
      "398/398 [==============================] - 0s 1ms/step - loss: 0.4835 - accuracy: 0.7650\n",
      "Epoch 52/70\n",
      "398/398 [==============================] - 0s 989us/step - loss: 0.4867 - accuracy: 0.7596\n",
      "Epoch 53/70\n",
      "398/398 [==============================] - 0s 959us/step - loss: 0.4841 - accuracy: 0.7618\n",
      "Epoch 54/70\n",
      "398/398 [==============================] - 0s 967us/step - loss: 0.4810 - accuracy: 0.7650\n",
      "Epoch 55/70\n",
      "398/398 [==============================] - 0s 962us/step - loss: 0.4803 - accuracy: 0.7663\n",
      "Epoch 56/70\n",
      "398/398 [==============================] - 0s 977us/step - loss: 0.4869 - accuracy: 0.7660\n",
      "Epoch 57/70\n",
      "398/398 [==============================] - 0s 972us/step - loss: 0.4822 - accuracy: 0.7670\n",
      "Epoch 58/70\n",
      "398/398 [==============================] - 0s 974us/step - loss: 0.4804 - accuracy: 0.7692\n",
      "Epoch 59/70\n",
      "398/398 [==============================] - 0s 959us/step - loss: 0.4808 - accuracy: 0.7690\n",
      "Epoch 60/70\n",
      "398/398 [==============================] - 0s 992us/step - loss: 0.4793 - accuracy: 0.7663\n",
      "Epoch 61/70\n",
      "398/398 [==============================] - 0s 1ms/step - loss: 0.4758 - accuracy: 0.7697\n",
      "Epoch 62/70\n",
      "398/398 [==============================] - 0s 982us/step - loss: 0.4808 - accuracy: 0.7645\n",
      "Epoch 63/70\n",
      "398/398 [==============================] - 0s 969us/step - loss: 0.4803 - accuracy: 0.7685\n",
      "Epoch 64/70\n",
      "398/398 [==============================] - 0s 952us/step - loss: 0.4822 - accuracy: 0.7677\n",
      "Epoch 65/70\n",
      "398/398 [==============================] - 0s 972us/step - loss: 0.4814 - accuracy: 0.7688\n",
      "Epoch 66/70\n",
      "398/398 [==============================] - 0s 1ms/step - loss: 0.4805 - accuracy: 0.7659\n",
      "Epoch 67/70\n",
      "398/398 [==============================] - 0s 989us/step - loss: 0.4758 - accuracy: 0.7699\n",
      "Epoch 68/70\n",
      "398/398 [==============================] - 0s 1ms/step - loss: 0.4792 - accuracy: 0.7688\n",
      "Epoch 69/70\n",
      "398/398 [==============================] - 0s 979us/step - loss: 0.4821 - accuracy: 0.7647\n",
      "Epoch 70/70\n",
      "398/398 [==============================] - 0s 989us/step - loss: 0.4751 - accuracy: 0.7677\n",
      "              precision    recall  f1-score   support\n",
      "\n",
      "           0       0.92      0.81      0.86      1595\n",
      "           1       0.49      0.73      0.59       405\n",
      "\n",
      "    accuracy                           0.79      2000\n",
      "   macro avg       0.71      0.77      0.72      2000\n",
      "weighted avg       0.83      0.79      0.81      2000\n",
      "\n",
      "63/63 [==============================] - 0s 857us/step - loss: 0.4616 - accuracy: 0.7925\n",
      "[0.4616294801235199, 0.7925000190734863]\n"
     ]
    }
   ],
   "source": [
    "x_train, x_test, y_train, y_test = train_test_split(x, y, test_size=0.2, random_state=5)\n",
    "\n",
    "smt = SMOTE(sampling_strategy = 'minority')\n",
    "x_smote, y_smote = smt.fit_resample(x_train, y_train)\n",
    "\n",
    "y_pred = ann(x_smote, y_smote, x_test, y_test)"
   ]
  },
  {
   "cell_type": "markdown",
   "id": "f7a5da29",
   "metadata": {},
   "source": [
    "Outra técnica bastante utilizada para a predição de dados de classificação binária é a Random Forest Classifier. Nela, uma série de árvores de decisão são criadas para tentar prever o resultado esperado, a previsão obtida no maior número de árvores é passada como o modelo de saída. Neste caso, aplicamos novamente a técnica de SMOTE para balancear o DataFrame, pois desta forma os resultados obtidos são mais precisos. "
   ]
  },
  {
   "cell_type": "code",
   "execution_count": 263,
   "id": "29a63af2",
   "metadata": {},
   "outputs": [
    {
     "name": "stdout",
     "output_type": "stream",
     "text": [
      "(array([0, 1], dtype=int64), array([6370, 1630], dtype=int64)) [6370 6370]\n",
      "\n",
      "\n",
      "              precision    recall  f1-score   support\n",
      "\n",
      "           0       0.90      0.91      0.91      1593\n",
      "           1       0.63      0.61      0.62       407\n",
      "\n",
      "    accuracy                           0.85      2000\n",
      "   macro avg       0.77      0.76      0.76      2000\n",
      "weighted avg       0.85      0.85      0.85      2000\n",
      "\n"
     ]
    }
   ],
   "source": [
    "#Separação entre x e y de treino e de teste\n",
    "x_train, x_test, y_train, y_test = train_test_split(x, y, test_size=0.2, stratify=y)\n",
    "\n",
    "#Balanceamento dos dataframes de treinamento com SMOTE\n",
    "smt = SMOTE(sampling_strategy=1, random_state=6)\n",
    "x_smote, y_smote = smt.fit_resample(x_train, y_train)\n",
    "\n",
    "#Verificando balanceamento\n",
    "print (np.unique(y_train, return_counts=True) , np.bincount(y_smote))\n",
    "\n",
    "#Criando modelo de Random Forest Classifier\n",
    "model = RandomForestClassifier()\n",
    "\n",
    "#Treinando modelo com x_smote e y_smote \n",
    "model.fit(x_smote, y_smote)\n",
    "\n",
    "#Prevendo valores de y\n",
    "y_pred = model.predict(x_test)\n",
    "\n",
    "#Verificando preformance do modelo\n",
    "print(classification_report(y_test, y_pred))"
   ]
  },
  {
   "cell_type": "markdown",
   "id": "793bb5c1",
   "metadata": {},
   "source": [
    "Abaixo prevemos os valores da coluna Exited para o arquivo Abandono_teste.csv. O modelo de predição utilizado foi o de Random Forest Classifier com o DataFrame balanceado, pois foi o que obteve a melhor performance dentre as técnicas testadas"
   ]
  },
  {
   "cell_type": "code",
   "execution_count": 306,
   "id": "4ac6935e",
   "metadata": {},
   "outputs": [
    {
     "name": "stdout",
     "output_type": "stream",
     "text": [
      "       0  1\n",
      "0      0  0\n",
      "1      1  0\n",
      "2      2  0\n",
      "3      3  0\n",
      "4      4  0\n",
      "..   ... ..\n",
      "995  995  0\n",
      "996  996  1\n",
      "997  997  1\n",
      "998  998  0\n",
      "999  999  0\n",
      "\n",
      "[1000 rows x 2 columns]\n"
     ]
    }
   ],
   "source": [
    "#Leitura do arquivo Abandono_teste.csv\n",
    "df_test = pd.read_csv('Abandono_teste.csv', sep=';')\n",
    "\n",
    "#Tratando o DataFrame para poder ser utilizada pelo modelo\n",
    "df_test.drop(df_test.columns[[0, 1, 2]], axis = 1, inplace=True)\n",
    "df_test['Gender'].replace({'Female':1, 'Male':0}, inplace = True)\n",
    "df_test = pd.get_dummies(data=df_test, columns=['Geography'])\n",
    "df_test[to_scale] = scaler.fit_transform(df_test[to_scale])\n",
    "\n",
    "#Realizando a previsão utilizando RFA\n",
    "df_test_pred = model.predict(df_test)\n",
    "\n",
    "#Criando o DataFrame final contendo o número da linha e o valor de Exited previsto\n",
    "row_num = np.array(range(len(df_test_pred)))\n",
    "df_final = np.column_stack((row_num, df_test_pred))\n",
    "df_final = pd.DataFrame(df_final)\n",
    "\n",
    "#Criando planilha com df_final\n",
    "df_final.to_excel(excel_writer = \"Abandono_teste_prediction.xlsx\", \n",
    "                  header = ['rowNumber', 'predictedValues'], index = False)\n",
    "\n",
    "#Mostrando df_final\n",
    "print(df_final)"
   ]
  }
 ],
 "metadata": {
  "kernelspec": {
   "display_name": "Python 3 (ipykernel)",
   "language": "python",
   "name": "python3"
  },
  "language_info": {
   "codemirror_mode": {
    "name": "ipython",
    "version": 3
   },
   "file_extension": ".py",
   "mimetype": "text/x-python",
   "name": "python",
   "nbconvert_exporter": "python",
   "pygments_lexer": "ipython3",
   "version": "3.8.8"
  }
 },
 "nbformat": 4,
 "nbformat_minor": 5
}
